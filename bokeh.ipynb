{
 "cells": [
  {
   "cell_type": "code",
   "execution_count": 2,
   "id": "ebb512b5-632b-47d5-9626-6c516770e14b",
   "metadata": {},
   "outputs": [],
   "source": [
    "import numpy as np\n",
    "import pandas as pd\n",
    "import matplotlib.pyplot as plt\n",
    "import seaborn as sns\n",
    "import warnings\n",
    "warnings.filterwarnings('ignore')"
   ]
  },
  {
   "cell_type": "code",
   "execution_count": 3,
   "id": "edb40b88-c543-42be-b9ea-55d7e89a4768",
   "metadata": {},
   "outputs": [
    {
     "name": "stdout",
     "output_type": "stream",
     "text": [
      "Requirement already satisfied: bokeh in /opt/conda/lib/python3.10/site-packages (3.0.3)\n",
      "Requirement already satisfied: Jinja2>=2.9 in /opt/conda/lib/python3.10/site-packages (from bokeh) (3.1.2)\n",
      "Requirement already satisfied: pandas>=1.2 in /opt/conda/lib/python3.10/site-packages (from bokeh) (1.5.2)\n",
      "Requirement already satisfied: xyzservices>=2021.09.1 in /opt/conda/lib/python3.10/site-packages (from bokeh) (2022.9.0)\n",
      "Requirement already satisfied: tornado>=5.1 in /opt/conda/lib/python3.10/site-packages (from bokeh) (6.1)\n",
      "Requirement already satisfied: pillow>=7.1.0 in /opt/conda/lib/python3.10/site-packages (from bokeh) (9.2.0)\n",
      "Requirement already satisfied: packaging>=16.8 in /opt/conda/lib/python3.10/site-packages (from bokeh) (22.0)\n",
      "Requirement already satisfied: PyYAML>=3.10 in /opt/conda/lib/python3.10/site-packages (from bokeh) (6.0)\n",
      "Requirement already satisfied: contourpy>=1 in /opt/conda/lib/python3.10/site-packages (from bokeh) (1.0.6)\n",
      "Requirement already satisfied: numpy>=1.11.3 in /opt/conda/lib/python3.10/site-packages (from bokeh) (1.23.5)\n",
      "Requirement already satisfied: MarkupSafe>=2.0 in /opt/conda/lib/python3.10/site-packages (from Jinja2>=2.9->bokeh) (2.1.1)\n",
      "Requirement already satisfied: python-dateutil>=2.8.1 in /opt/conda/lib/python3.10/site-packages (from pandas>=1.2->bokeh) (2.8.2)\n",
      "Requirement already satisfied: pytz>=2020.1 in /opt/conda/lib/python3.10/site-packages (from pandas>=1.2->bokeh) (2022.6)\n",
      "Requirement already satisfied: six>=1.5 in /opt/conda/lib/python3.10/site-packages (from python-dateutil>=2.8.1->pandas>=1.2->bokeh) (1.16.0)\n",
      "Note: you may need to restart the kernel to use updated packages.\n"
     ]
    }
   ],
   "source": [
    "pip install bokeh"
   ]
  },
  {
   "cell_type": "code",
   "execution_count": null,
   "id": "874b6168-2f12-4ca1-832b-b976b4edb29b",
   "metadata": {},
   "outputs": [],
   "source": []
  },
  {
   "cell_type": "code",
   "execution_count": null,
   "id": "12306c9d-daf7-4d8b-b0e9-476cee68268a",
   "metadata": {},
   "outputs": [],
   "source": []
  },
  {
   "cell_type": "code",
   "execution_count": 4,
   "id": "353ee4a9-aa55-4768-b0d8-4b216f7f99fc",
   "metadata": {},
   "outputs": [],
   "source": [
    "import bokeh.io\n",
    "import bokeh.plotting\n",
    "bokeh.io.output_notebook\n",
    "from bokeh.plotting import figure, show\n",
    "from bokeh.io import output_notebook"
   ]
  },
  {
   "cell_type": "code",
   "execution_count": 5,
   "id": "ffbfc257-fafb-45ec-8d6f-5ef20335847b",
   "metadata": {},
   "outputs": [],
   "source": [
    "# Qn1:Create a Bokeh plot displaying a sine wave. Set x-values from 0 to 10 and y-values as the sine of x."
   ]
  },
  {
   "cell_type": "code",
   "execution_count": 7,
   "id": "037e52d4-0691-4c56-972b-cfc0f3e8cef2",
   "metadata": {},
   "outputs": [],
   "source": [
    "x = np.linspace(0, 10, 500)\n",
    "y = np.sin(x)\n",
    "\n",
    "p = figure(title='Sine Wave', x_axis_label='x', y_axis_label='y')\n",
    "\n",
    "p.line(x,y, legend_label='y=sin(x)', line_width=2)\n",
    "show(p)"
   ]
  },
  {
   "cell_type": "code",
   "execution_count": 8,
   "id": "be41ca84-7f88-4fa0-859a-5e3a489e930d",
   "metadata": {},
   "outputs": [],
   "source": [
    "# Qn2: Create a Bokeh scatter plot using randomly generated x and y values. Use different sizes and colors for the\n",
    "# markers based on the 'sizes' and 'colors' columns."
   ]
  },
  {
   "cell_type": "code",
   "execution_count": 12,
   "id": "13bb4f64-ae6c-49ec-a74d-2386fbb3671c",
   "metadata": {},
   "outputs": [],
   "source": [
    "# code->\n",
    "x = np.random.rand(100)\n",
    "y = np.random.rand(100)\n",
    "sizes = np.random.randint(10, 50, size=100)\n",
    "n = 100\n",
    "colors = np.random.randint(0, 256, size=(n,3))\n",
    "colors = ['#{:02x}{:02x}{:02x}'.format(*c) for c in colors]\n",
    "\n",
    "p = figure(title='Random Scatter Plot', x_axis_label='x', y_axis_label='y')\n",
    "p.scatter(x, y, size=sizes, color=colors, fill_alpha=0.6)\n",
    "show(p)"
   ]
  },
  {
   "cell_type": "code",
   "execution_count": 11,
   "id": "aa797f4e-79f9-4b00-998f-ce79cd861c9d",
   "metadata": {},
   "outputs": [],
   "source": [
    "# Qn3. Generate a Bokeh bar chart representing the counts of different fruits using the following dataset."
   ]
  },
  {
   "cell_type": "code",
   "execution_count": 13,
   "id": "d41720e2-9587-4328-b01f-4599d73f0bd5",
   "metadata": {},
   "outputs": [],
   "source": [
    "# code->\n",
    "fruits = ['Apples', 'Oranges', 'Bananas', 'Pears']\n",
    "counts = [20, 25, 30, 35]\n",
    "\n",
    "p = figure(x_range=fruits,title='Fruit Counts')\n",
    "p.vbar(x=fruits, top=counts, width=0.8)\n",
    "show(p)"
   ]
  },
  {
   "cell_type": "code",
   "execution_count": 14,
   "id": "2f61b1f7-1b4d-4d20-888a-098bce6844b0",
   "metadata": {},
   "outputs": [],
   "source": [
    "# Qn4. Create a Bokeh histogram to visualize the distribution of the given data."
   ]
  },
  {
   "cell_type": "code",
   "execution_count": 15,
   "id": "fbef4d67-8a9b-4d2b-b2c0-8b00f9fd8849",
   "metadata": {},
   "outputs": [],
   "source": [
    "# code->\n",
    "data_hist = np.random.randn(1000)\n",
    "hist, edges = np.histogram(data_hist, bins=30)\n",
    "\n",
    "p = figure(title='Histogram', x_axis_label='Value', y_axis_label='Frequency')\n",
    "p.quad(top=hist, bottom=0, left=edges[:-1], right=edges[1:], fill_color=\"red\", line_color=\"white\")\n",
    "show(p)"
   ]
  },
  {
   "cell_type": "code",
   "execution_count": 16,
   "id": "698d2a4a-5c70-4833-ad71-a594a7189ceb",
   "metadata": {},
   "outputs": [],
   "source": [
    "# Qn5. Create a Bokeh heatmap using the provided dataset."
   ]
  },
  {
   "cell_type": "code",
   "execution_count": null,
   "id": "42b6b5b9-304f-4431-a819-811054cf6366",
   "metadata": {},
   "outputs": [],
   "source": [
    "# code->\n",
    "data_heatmap = np.random.rand(10, 10)\n",
    "x = np.linspace(0, 1, 10)\n",
    "y = np.linspace(0, 1, 10)\n",
    "xx, yy = np.meshgrid(x, y)\n",
    "\n",
    "p = figure(title=\"Heatmap\", x_axis_label='x', y_axis_label='y')\n",
    "\n",
    "color_mapper = LinearColorMapper(palette=\"Viridis256\", low=np.min(data_heatmap), high=np.max(data_heatmap))\n",
    "\n",
    "p.image(image=[data_heatmap], x=0, y=0, dw=1, dh=1, color_mapper=color_mapper)\n",
    "\n",
    "color_bar = ColorBar(color_mapper=color_mapper, location=(0, 0))\n",
    "\n",
    "p.add_layout(color_bar, 'right')\n",
    "\n",
    "\n",
    "show(p)\n"
   ]
  }
 ],
 "metadata": {
  "kernelspec": {
   "display_name": "Python 3 (ipykernel)",
   "language": "python",
   "name": "python3"
  },
  "language_info": {
   "codemirror_mode": {
    "name": "ipython",
    "version": 3
   },
   "file_extension": ".py",
   "mimetype": "text/x-python",
   "name": "python",
   "nbconvert_exporter": "python",
   "pygments_lexer": "ipython3",
   "version": "3.10.8"
  }
 },
 "nbformat": 4,
 "nbformat_minor": 5
}
